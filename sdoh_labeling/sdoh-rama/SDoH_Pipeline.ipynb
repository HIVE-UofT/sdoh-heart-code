{
  "nbformat": 4,
  "nbformat_minor": 0,
  "metadata": {
    "colab": {
      "provenance": [],
      "collapsed_sections": [
        "Eia0A4NXw1GS",
        "jqngnYg6xTT0",
        "L09KdO0Iheqp",
        "_U_xs0UXaqT5"
      ]
    },
    "kernelspec": {
      "name": "python3",
      "display_name": "Python 3"
    },
    "language_info": {
      "name": "python"
    }
  },
  "cells": [
    {
      "cell_type": "code",
      "source": [
        "import pandas as pd\n",
        "from tqdm import tqdm\n",
        "import os\n",
        "from transformers import AutoTokenizer, AutoModelForCausalLM, pipeline\n",
        "import torch\n",
        "import numpy as np\n",
        "from concurrent.futures import ThreadPoolExecutor\n",
        "import multiprocessing as mp\n",
        "from google.colab import drive\n"
      ],
      "metadata": {
        "id": "HKzSdhnZbYXn"
      },
      "execution_count": null,
      "outputs": []
    },
    {
      "cell_type": "markdown",
      "metadata": {
        "id": "Eia0A4NXw1GS"
      },
      "source": [
        "# SDoH Keywords Dictionary adapted from [Yu et al.](https://pmc.ncbi.nlm.nih.gov/articles/PMC11141428/) (2024)"
      ]
    },
    {
      "cell_type": "markdown",
      "metadata": {
        "id": "4FMO6UP_yYYT"
      },
      "source": [
        "Notes on Modifications & Domain Exclusions:\n",
        "\n",
        "- Some topics like marital status, language, gender, race, ethnicity, living supplies, how often someone socializes, and ICD codes were not included because they didn’t have clear keywords to search for in the notes.\n",
        "\n",
        "- Merged similar categories for clarity (e.g., substance use).\n",
        "\n",
        "Reference:\n",
        "Adapted directly from the SDoH domains from Yu et al. (2024), available [here](https://pmc.ncbi.nlm.nih.gov/articles/PMC11141428/)."
      ]
    },
    {
      "cell_type": "code",
      "execution_count": null,
      "metadata": {
        "id": "1MhxVXelw9wH"
      },
      "outputs": [],
      "source": [
        "# SDoH Keywords Dictionary adapted from Yu et al. (2024)\n",
        "sdoh_keywords_Yu = {\n",
        "    \"financial-constraint\": [\n",
        "        \"income\", \"financial\", \"poverty\", \"socioeconomic\",\n",
        "        \"occupation\", \"indigence\", \"retired\", \"worked in\",\n",
        "        \"working in\", \"work as\", \"work\", \"working at\", \"cost\", \"bill\", \"difficulty paying\"\n",
        "    ],\n",
        "    \"living-condition\": [\n",
        "        \"house\", \"housing\", \"homeless\", \"shelter\", \"lives with\", \"living with\",\n",
        "        \"resideswith\", \"accompanied by\", \"here with\", \"live with\"\n",
        "    ],\n",
        "    \"transportation\": [\n",
        "        \"transportation need\", \"transportation\", \"ride\", \"miss appointment\", \"commute\"\n",
        "    ],\n",
        "    \"education\": [\n",
        "        \"education\", \"school\", \"diploma\", \"educational attainment\"\n",
        "    ],\n",
        "    \"employment-status\": [\n",
        "        \"employment\", \"unemployment\", \"employed\", \"unemployed\", \"occupation\", \"retired\"\n",
        "    ],\n",
        "    \"social-connection\": [\n",
        "        \"social worker\", \"social history\", \"community\", \"neighborhood\", \"neighbourhood\"\n",
        "    ],\n",
        "    \"violence-abuse\": [\n",
        "        \"violence\", \"crime\", \"physical abuse\", \"sexual abuse\", \"abuse\"\n",
        "    ],\n",
        "    \"disability-status\": [\n",
        "        \"disability\", \"disabled\"\n",
        "    ],\n",
        "    \"physical-activity\": [\n",
        "        \"physical activity\", \"exercise\", \"running\", \"currently not exercising\"\n",
        "    ],\n",
        "    \"substance-use\": [\n",
        "        \"tobacco\", \"smoking\", \"smoker\", \"cigarette\", \"alcohol\", \"drug use\", \"cocaine\",\n",
        "        \"substance abuse\"\n",
        "    ],\n",
        "    \"sexual-activity\": [\n",
        "        \"sexual activity\", \"partner\", \"protection\"\n",
        "    ]\n",
        "\n",
        "}\n"
      ]
    },
    {
      "cell_type": "markdown",
      "metadata": {
        "id": "jqngnYg6xTT0"
      },
      "source": [
        "#Loading (Patient Comments)"
      ]
    },
    {
      "cell_type": "code",
      "execution_count": null,
      "metadata": {
        "colab": {
          "base_uri": "https://localhost:8080/"
        },
        "id": "gjR68eyfWywD",
        "outputId": "3db1d317-cfec-4643-e5e9-c599c5e2eb2e"
      },
      "outputs": [
        {
          "output_type": "stream",
          "name": "stdout",
          "text": [
            "Mounted at /content/drive\n"
          ]
        }
      ],
      "source": [
        "drive.mount('/content/drive')"
      ]
    },
    {
      "cell_type": "code",
      "execution_count": null,
      "metadata": {
        "colab": {
          "base_uri": "https://localhost:8080/"
        },
        "id": "hogP_a3RY2CZ",
        "outputId": "a02a1918-4519-466b-d7c8-735734d353d9"
      },
      "outputs": [
        {
          "output_type": "stream",
          "name": "stderr",
          "text": [
            "/usr/local/lib/python3.11/dist-packages/openpyxl/worksheet/_reader.py:329: UserWarning: Data Validation extension is not supported and will be removed\n",
            "  warn(msg)\n"
          ]
        }
      ],
      "source": [
        "file_path_final = '/content/drive/MyDrive/LLama_SDoH_Final.csv'\n",
        "\n",
        "df_final = pd.read_csv(file_path_final)"
      ]
    },
    {
      "cell_type": "code",
      "execution_count": null,
      "metadata": {
        "colab": {
          "base_uri": "https://localhost:8080/"
        },
        "id": "abWBN8Gxiod1",
        "outputId": "d820cf91-dc60-48e3-b1c6-becc41fa833a"
      },
      "outputs": [
        {
          "output_type": "execute_result",
          "data": {
            "text/plain": [
              "                          Hospital                Type  \\\n",
              "126291  Woodstock General Hospital             General   \n",
              "126292  Woodstock General Hospital             General   \n",
              "126293  Woodstock General Hospital  Contact\\nRequested   \n",
              "126294  Woodstock General Hospital             General   \n",
              "126295  Woodstock General Hospital             General   \n",
              "\n",
              "                                                  Comment  Year   Valence  \\\n",
              "126291   You need peel & stick envelopes\\nfor your survey  2021  Negative   \n",
              "126292  You should have given me a\\ncard with my follo...  2020  Negative   \n",
              "126293  Your hospital and staff are\\nabsolutely to be ...  2021  Positive   \n",
              "126294  Your hospital is one of the cleanest, most org...  2016  Positive   \n",
              "126295  Your nurses are wonderful Thank-you Dr XXXXXXX...  2017  Positive   \n",
              "\n",
              "                                           Unit  \\\n",
              "126291                     Day\\nSurgery\\n(Mail)   \n",
              "126292                     Day\\nSurgery\\n(Mail)   \n",
              "126293                        Emergency\\n(Mail)   \n",
              "126294  Woodstock General Hospital; Day Surgery   \n",
              "126295                     Day\\nSurgery\\n(Mail)   \n",
              "\n",
              "                                                     Code  \n",
              "126291                                    General Comment  \n",
              "126292  Access/Coord of Care,\\nContinuity/Transition,\\...  \n",
              "126293  Admit/Registration,\\nDoctor/Physician,\\nHousek...  \n",
              "126294            Access/Coord of Care, Housekeeping/Room  \n",
              "126295  Doctor/Physician,\\nNurse/Nurse aide,\\nPositive...  "
            ],
            "text/html": [
              "\n",
              "  <div id=\"df-176b54e1-638a-49eb-a0d2-40f1361ba5dd\" class=\"colab-df-container\">\n",
              "    <div>\n",
              "<style scoped>\n",
              "    .dataframe tbody tr th:only-of-type {\n",
              "        vertical-align: middle;\n",
              "    }\n",
              "\n",
              "    .dataframe tbody tr th {\n",
              "        vertical-align: top;\n",
              "    }\n",
              "\n",
              "    .dataframe thead th {\n",
              "        text-align: right;\n",
              "    }\n",
              "</style>\n",
              "<table border=\"1\" class=\"dataframe\">\n",
              "  <thead>\n",
              "    <tr style=\"text-align: right;\">\n",
              "      <th></th>\n",
              "      <th>Hospital</th>\n",
              "      <th>Type</th>\n",
              "      <th>Comment</th>\n",
              "      <th>Year</th>\n",
              "      <th>Valence</th>\n",
              "      <th>Unit</th>\n",
              "      <th>Code</th>\n",
              "    </tr>\n",
              "  </thead>\n",
              "  <tbody>\n",
              "    <tr>\n",
              "      <th>126291</th>\n",
              "      <td>Woodstock General Hospital</td>\n",
              "      <td>General</td>\n",
              "      <td>You need peel &amp; stick envelopes\\nfor your survey</td>\n",
              "      <td>2021</td>\n",
              "      <td>Negative</td>\n",
              "      <td>Day\\nSurgery\\n(Mail)</td>\n",
              "      <td>General Comment</td>\n",
              "    </tr>\n",
              "    <tr>\n",
              "      <th>126292</th>\n",
              "      <td>Woodstock General Hospital</td>\n",
              "      <td>General</td>\n",
              "      <td>You should have given me a\\ncard with my follo...</td>\n",
              "      <td>2020</td>\n",
              "      <td>Negative</td>\n",
              "      <td>Day\\nSurgery\\n(Mail)</td>\n",
              "      <td>Access/Coord of Care,\\nContinuity/Transition,\\...</td>\n",
              "    </tr>\n",
              "    <tr>\n",
              "      <th>126293</th>\n",
              "      <td>Woodstock General Hospital</td>\n",
              "      <td>Contact\\nRequested</td>\n",
              "      <td>Your hospital and staff are\\nabsolutely to be ...</td>\n",
              "      <td>2021</td>\n",
              "      <td>Positive</td>\n",
              "      <td>Emergency\\n(Mail)</td>\n",
              "      <td>Admit/Registration,\\nDoctor/Physician,\\nHousek...</td>\n",
              "    </tr>\n",
              "    <tr>\n",
              "      <th>126294</th>\n",
              "      <td>Woodstock General Hospital</td>\n",
              "      <td>General</td>\n",
              "      <td>Your hospital is one of the cleanest, most org...</td>\n",
              "      <td>2016</td>\n",
              "      <td>Positive</td>\n",
              "      <td>Woodstock General Hospital; Day Surgery</td>\n",
              "      <td>Access/Coord of Care, Housekeeping/Room</td>\n",
              "    </tr>\n",
              "    <tr>\n",
              "      <th>126295</th>\n",
              "      <td>Woodstock General Hospital</td>\n",
              "      <td>General</td>\n",
              "      <td>Your nurses are wonderful Thank-you Dr XXXXXXX...</td>\n",
              "      <td>2017</td>\n",
              "      <td>Positive</td>\n",
              "      <td>Day\\nSurgery\\n(Mail)</td>\n",
              "      <td>Doctor/Physician,\\nNurse/Nurse aide,\\nPositive...</td>\n",
              "    </tr>\n",
              "  </tbody>\n",
              "</table>\n",
              "</div>\n",
              "    <div class=\"colab-df-buttons\">\n",
              "\n",
              "  <div class=\"colab-df-container\">\n",
              "    <button class=\"colab-df-convert\" onclick=\"convertToInteractive('df-176b54e1-638a-49eb-a0d2-40f1361ba5dd')\"\n",
              "            title=\"Convert this dataframe to an interactive table.\"\n",
              "            style=\"display:none;\">\n",
              "\n",
              "  <svg xmlns=\"http://www.w3.org/2000/svg\" height=\"24px\" viewBox=\"0 -960 960 960\">\n",
              "    <path d=\"M120-120v-720h720v720H120Zm60-500h600v-160H180v160Zm220 220h160v-160H400v160Zm0 220h160v-160H400v160ZM180-400h160v-160H180v160Zm440 0h160v-160H620v160ZM180-180h160v-160H180v160Zm440 0h160v-160H620v160Z\"/>\n",
              "  </svg>\n",
              "    </button>\n",
              "\n",
              "  <style>\n",
              "    .colab-df-container {\n",
              "      display:flex;\n",
              "      gap: 12px;\n",
              "    }\n",
              "\n",
              "    .colab-df-convert {\n",
              "      background-color: #E8F0FE;\n",
              "      border: none;\n",
              "      border-radius: 50%;\n",
              "      cursor: pointer;\n",
              "      display: none;\n",
              "      fill: #1967D2;\n",
              "      height: 32px;\n",
              "      padding: 0 0 0 0;\n",
              "      width: 32px;\n",
              "    }\n",
              "\n",
              "    .colab-df-convert:hover {\n",
              "      background-color: #E2EBFA;\n",
              "      box-shadow: 0px 1px 2px rgba(60, 64, 67, 0.3), 0px 1px 3px 1px rgba(60, 64, 67, 0.15);\n",
              "      fill: #174EA6;\n",
              "    }\n",
              "\n",
              "    .colab-df-buttons div {\n",
              "      margin-bottom: 4px;\n",
              "    }\n",
              "\n",
              "    [theme=dark] .colab-df-convert {\n",
              "      background-color: #3B4455;\n",
              "      fill: #D2E3FC;\n",
              "    }\n",
              "\n",
              "    [theme=dark] .colab-df-convert:hover {\n",
              "      background-color: #434B5C;\n",
              "      box-shadow: 0px 1px 3px 1px rgba(0, 0, 0, 0.15);\n",
              "      filter: drop-shadow(0px 1px 2px rgba(0, 0, 0, 0.3));\n",
              "      fill: #FFFFFF;\n",
              "    }\n",
              "  </style>\n",
              "\n",
              "    <script>\n",
              "      const buttonEl =\n",
              "        document.querySelector('#df-176b54e1-638a-49eb-a0d2-40f1361ba5dd button.colab-df-convert');\n",
              "      buttonEl.style.display =\n",
              "        google.colab.kernel.accessAllowed ? 'block' : 'none';\n",
              "\n",
              "      async function convertToInteractive(key) {\n",
              "        const element = document.querySelector('#df-176b54e1-638a-49eb-a0d2-40f1361ba5dd');\n",
              "        const dataTable =\n",
              "          await google.colab.kernel.invokeFunction('convertToInteractive',\n",
              "                                                    [key], {});\n",
              "        if (!dataTable) return;\n",
              "\n",
              "        const docLinkHtml = 'Like what you see? Visit the ' +\n",
              "          '<a target=\"_blank\" href=https://colab.research.google.com/notebooks/data_table.ipynb>data table notebook</a>'\n",
              "          + ' to learn more about interactive tables.';\n",
              "        element.innerHTML = '';\n",
              "        dataTable['output_type'] = 'display_data';\n",
              "        await google.colab.output.renderOutput(dataTable, element);\n",
              "        const docLink = document.createElement('div');\n",
              "        docLink.innerHTML = docLinkHtml;\n",
              "        element.appendChild(docLink);\n",
              "      }\n",
              "    </script>\n",
              "  </div>\n",
              "\n",
              "\n",
              "    <div id=\"df-1da422d8-4648-457c-b905-a672b09cbd9c\">\n",
              "      <button class=\"colab-df-quickchart\" onclick=\"quickchart('df-1da422d8-4648-457c-b905-a672b09cbd9c')\"\n",
              "                title=\"Suggest charts\"\n",
              "                style=\"display:none;\">\n",
              "\n",
              "<svg xmlns=\"http://www.w3.org/2000/svg\" height=\"24px\"viewBox=\"0 0 24 24\"\n",
              "     width=\"24px\">\n",
              "    <g>\n",
              "        <path d=\"M19 3H5c-1.1 0-2 .9-2 2v14c0 1.1.9 2 2 2h14c1.1 0 2-.9 2-2V5c0-1.1-.9-2-2-2zM9 17H7v-7h2v7zm4 0h-2V7h2v10zm4 0h-2v-4h2v4z\"/>\n",
              "    </g>\n",
              "</svg>\n",
              "      </button>\n",
              "\n",
              "<style>\n",
              "  .colab-df-quickchart {\n",
              "      --bg-color: #E8F0FE;\n",
              "      --fill-color: #1967D2;\n",
              "      --hover-bg-color: #E2EBFA;\n",
              "      --hover-fill-color: #174EA6;\n",
              "      --disabled-fill-color: #AAA;\n",
              "      --disabled-bg-color: #DDD;\n",
              "  }\n",
              "\n",
              "  [theme=dark] .colab-df-quickchart {\n",
              "      --bg-color: #3B4455;\n",
              "      --fill-color: #D2E3FC;\n",
              "      --hover-bg-color: #434B5C;\n",
              "      --hover-fill-color: #FFFFFF;\n",
              "      --disabled-bg-color: #3B4455;\n",
              "      --disabled-fill-color: #666;\n",
              "  }\n",
              "\n",
              "  .colab-df-quickchart {\n",
              "    background-color: var(--bg-color);\n",
              "    border: none;\n",
              "    border-radius: 50%;\n",
              "    cursor: pointer;\n",
              "    display: none;\n",
              "    fill: var(--fill-color);\n",
              "    height: 32px;\n",
              "    padding: 0;\n",
              "    width: 32px;\n",
              "  }\n",
              "\n",
              "  .colab-df-quickchart:hover {\n",
              "    background-color: var(--hover-bg-color);\n",
              "    box-shadow: 0 1px 2px rgba(60, 64, 67, 0.3), 0 1px 3px 1px rgba(60, 64, 67, 0.15);\n",
              "    fill: var(--button-hover-fill-color);\n",
              "  }\n",
              "\n",
              "  .colab-df-quickchart-complete:disabled,\n",
              "  .colab-df-quickchart-complete:disabled:hover {\n",
              "    background-color: var(--disabled-bg-color);\n",
              "    fill: var(--disabled-fill-color);\n",
              "    box-shadow: none;\n",
              "  }\n",
              "\n",
              "  .colab-df-spinner {\n",
              "    border: 2px solid var(--fill-color);\n",
              "    border-color: transparent;\n",
              "    border-bottom-color: var(--fill-color);\n",
              "    animation:\n",
              "      spin 1s steps(1) infinite;\n",
              "  }\n",
              "\n",
              "  @keyframes spin {\n",
              "    0% {\n",
              "      border-color: transparent;\n",
              "      border-bottom-color: var(--fill-color);\n",
              "      border-left-color: var(--fill-color);\n",
              "    }\n",
              "    20% {\n",
              "      border-color: transparent;\n",
              "      border-left-color: var(--fill-color);\n",
              "      border-top-color: var(--fill-color);\n",
              "    }\n",
              "    30% {\n",
              "      border-color: transparent;\n",
              "      border-left-color: var(--fill-color);\n",
              "      border-top-color: var(--fill-color);\n",
              "      border-right-color: var(--fill-color);\n",
              "    }\n",
              "    40% {\n",
              "      border-color: transparent;\n",
              "      border-right-color: var(--fill-color);\n",
              "      border-top-color: var(--fill-color);\n",
              "    }\n",
              "    60% {\n",
              "      border-color: transparent;\n",
              "      border-right-color: var(--fill-color);\n",
              "    }\n",
              "    80% {\n",
              "      border-color: transparent;\n",
              "      border-right-color: var(--fill-color);\n",
              "      border-bottom-color: var(--fill-color);\n",
              "    }\n",
              "    90% {\n",
              "      border-color: transparent;\n",
              "      border-bottom-color: var(--fill-color);\n",
              "    }\n",
              "  }\n",
              "</style>\n",
              "\n",
              "      <script>\n",
              "        async function quickchart(key) {\n",
              "          const quickchartButtonEl =\n",
              "            document.querySelector('#' + key + ' button');\n",
              "          quickchartButtonEl.disabled = true;  // To prevent multiple clicks.\n",
              "          quickchartButtonEl.classList.add('colab-df-spinner');\n",
              "          try {\n",
              "            const charts = await google.colab.kernel.invokeFunction(\n",
              "                'suggestCharts', [key], {});\n",
              "          } catch (error) {\n",
              "            console.error('Error during call to suggestCharts:', error);\n",
              "          }\n",
              "          quickchartButtonEl.classList.remove('colab-df-spinner');\n",
              "          quickchartButtonEl.classList.add('colab-df-quickchart-complete');\n",
              "        }\n",
              "        (() => {\n",
              "          let quickchartButtonEl =\n",
              "            document.querySelector('#df-1da422d8-4648-457c-b905-a672b09cbd9c button');\n",
              "          quickchartButtonEl.style.display =\n",
              "            google.colab.kernel.accessAllowed ? 'block' : 'none';\n",
              "        })();\n",
              "      </script>\n",
              "    </div>\n",
              "\n",
              "    </div>\n",
              "  </div>\n"
            ],
            "application/vnd.google.colaboratory.intrinsic+json": {
              "type": "dataframe",
              "repr_error": "0"
            }
          },
          "metadata": {},
          "execution_count": 4
        }
      ],
      "source": [
        "df_final.tail()"
      ]
    },
    {
      "cell_type": "markdown",
      "source": [
        "#Phi-3 Zero shot"
      ],
      "metadata": {
        "id": "L09KdO0Iheqp"
      }
    },
    {
      "cell_type": "code",
      "source": [
        "df_final = df_final.dropna(subset=[\"Gemma_Cleaned_Comment\"]).reset_index(drop=True)\n",
        "\n",
        "output_file = \"LLama_SDoH_Final_phi3.csv\"\n",
        "\n",
        "if os.path.exists(output_file):\n",
        "    print(f\"Found existing {output_file}, resuming from previous progress...\")\n",
        "    final_results = pd.read_csv(output_file)\n",
        "    already_processed = len(final_results[final_results[\"phi3_label\"] != \"\"])\n",
        "    print(f\"Already processed: {already_processed}/{len(final_results)} comments\")\n",
        "else:\n",
        "    print(f\"Starting fresh classification...\")\n",
        "    final_results = df_final.copy()\n",
        "    final_results[\"phi3_label\"] = \"\"\n",
        "\n",
        "model_name = \"microsoft/phi-3-mini-128k-instruct\"\n",
        "tokenizer = AutoTokenizer.from_pretrained(model_name, trust_remote_code=True)\n",
        "model = AutoModelForCausalLM.from_pretrained(\n",
        "    model_name,\n",
        "    trust_remote_code=True,\n",
        "    device_map=\"auto\",\n",
        "    torch_dtype=torch.float16,\n",
        "    attn_implementation=\"eager\"\n",
        ")\n",
        "\n",
        "if tokenizer.pad_token is None:\n",
        "    tokenizer.pad_token = tokenizer.eos_token\n"
      ],
      "metadata": {
        "colab": {
          "base_uri": "https://localhost:8080/",
          "height": 801,
          "referenced_widgets": [
            "d1f611c2a9124cdba315c0b1d366aa0c",
            "6e33cfeac3ef4d47a0cdba1d275a5143",
            "72dc0b76c1794546937954db00f40447",
            "6721a7ca48a745b3bc4130d0ea26ca9d",
            "c89e184ee6cd4c62bf97a8932ba02d42",
            "1f973dc6f6054478ac68c695ca1dd6a6",
            "26186792718a447b99e39b0c3c929647",
            "31c51963dcc942b493ced028e39329be",
            "adac762b512a4b6f8239383b3201f2c8",
            "b3d59586e96241acaccc9c5aeafb78d1",
            "357361c973e94805b1c1e28cbb6c00b5",
            "dfd84c959f504139bf13df24f1f878f9",
            "52b0fbfa3d4940549c6aed7b56ae4bae",
            "da2f9f63d9004e028bd1d46a66bf2454",
            "abd04d8fb5a546e08be120042cdc8ad1",
            "0430879af7c045ac9c921f35461e406a",
            "39e3ac89e8bc49398da5deb3cd0f34a6",
            "47c6f41db2bb496497b84ba2b21ef5d3",
            "5b475012dfb9488bb03904ebb03474c0",
            "b34e6568c3874d86b5d3a4c349d0dc03",
            "45153fb8cb414206a14f00fae2d60603",
            "0654766de3144ddf907485359333faef",
            "60f1a4e1e99646ba808d8686bcdf841d",
            "4dfa19fc5afc4bd2855fa91824b7287e",
            "4cc4a4329dfb46dea8081c80bd21d371",
            "623eebdfb13644c1bb508863c1c9e4e0",
            "171561f51d4f447cace653ec21ef01c0",
            "2de67fc0959b4df2926eeb8adf68f5f6",
            "484358f5c2a548379d1153cc5d07e139",
            "898762b5e1024682b358181448a141bf",
            "36bcb723743947fa9de2e2aa761e5c3e",
            "b6a6b7f54f884ef481240aeb2353d4f5",
            "032b3efaa23b40d48e45bb274f18aafe",
            "c0247aba8bbb4d73a2019416d1a50443",
            "3d6527aa860e409c8ca01eb8cc57240d",
            "b9bb1a97da82432793dcbb7813a99b3a",
            "d58d2418892c4accb89e5ba154b93976",
            "1a3132ede6724e4daef48b7d46f85013",
            "fb4efc8395954119a48a99186662b07a",
            "5635698f710b4db0ad3865d86ac92959",
            "b4c00e1cae5f44e78549f9a6f7ad3210",
            "f4e5ae19f111472b88088bf51844c3c7",
            "bd8b790a8fab4794ae242b2518874fc2",
            "4fc3ed918b73491da7dfa29fbe1ac219",
            "7483e8dce980480083d482ff6df88c36",
            "32b3a5fcc020436c86b0df2e067b0bb0",
            "87ba1f4d5a5d4660840f4afe2dc278e5",
            "f68dcdb802d94ae3b0f9858a3554c6df",
            "2baccbdffff5433ea7f6f284af2da796",
            "b52fe1d4a8334d55a136d3c365a0a31a",
            "2e19eb6f014147f4b143b5fa7813495a",
            "6a388b70e4fd4944af63d0ee7b28466b",
            "21b4e6b81c124ef2a6936e1b3dd7670b",
            "b32db883b4174877a3aeb2cd8aff4739",
            "c0d7a2e0d95a4201964fdbff6a09773d",
            "aac567957376498e84c9231ed221c1fd",
            "a1dea793c7b84f09b81beebb83c2cae3",
            "745ab45e5dad41278ba4f11146f6af7c",
            "d0c95011524641888db03142bdc5789f",
            "d6430b293bf249cabe8fc0c01ee76979",
            "91c3d8db090f4254b1fe6ad3c2691342",
            "3b8f88a1dbc4458e837606a3505fde3f",
            "23cc08b4a1d349d0b979185d2c221d26",
            "5455f24d5c794ab89008dc24ae1ba888",
            "2cd07ac14e8f4437b0856bfafa160f11",
            "0e24b34388c94f00b4f5f92ce0dcf5e0",
            "c268e87995e84196b2e66c35514a99af",
            "4d949285d8484914906314197475a716",
            "bd1e3bc5628d41a197e0de8cc1761c0d",
            "c2f3a1bb47764671a146ebca41fdf635",
            "9aa408a6566f4fdb8422da64dc8dbc67",
            "42ec38bddfce4d7bb8fc474f53d86da8",
            "1d22c935b05446da86327939e9954263",
            "365918e9a53f4162abf48f3af7f6f2af",
            "10a5cab323cc433c9836f57f9da7ae2b",
            "24d2770f89e2459186642b3cffd5dd15",
            "55e65948569b4b0fae28449c06ef34bb",
            "6b0e227097314a888bc29bb4eeb2710b",
            "73e1348e185749ada8581b4e30aa4742",
            "a7b53bc5072047bda2c700a1a548e7f0",
            "afbe398c58204a34a5952c8c1d026d0f",
            "ef5e1b0202454d6fb80cf8bc863dadb4",
            "58b6a4a12e54464694514bcc87718eaf",
            "904be081e6664052b8f9173b1561dcb9",
            "57315f22614243b69cfa7d1011e0b3bf",
            "260b2c8e17384a3390967f316d43b35f",
            "a304f7e515534016996fa4d331203920",
            "a781ab983a1c4210ab8b7760ed417491",
            "ca0c2b447d1c4eacaf424b49b6b215c4",
            "b1299d033f5942d48f5ead7c2f846dad",
            "8d67ae638258490db42d25c9ec4396ad",
            "04f9f61b5ed24db8b0ae605248dc322d",
            "7adcbcdcb2c443d4a4fa4e24df48d39a",
            "9874665a8d594cfc9c3fb05c355fc1d7",
            "e296a2c422654951bca49e99749b8ee5",
            "e0f17d287f2f48deb31934c770a49b27",
            "75df818c633245a99843e3b64ad3938d",
            "7ae4de6f46524f3e91651245cfe19aac",
            "e4736a2fa08b4dab9b79f19d5171507f",
            "b26197aeb32b4b5ba3511228174981be",
            "b125ae5c83524e7cb59e7d360de6bad5",
            "5fb3c89fd1dd4b7784f1064ae3392481",
            "246145cd1d4745ecbe15d366c80e38fa",
            "64e4fb3fd936471c837c185274972676",
            "c97d3118e0c34122b5f6af8554a291e9",
            "d842369af8b8469bac3400eb83c8ce25",
            "b88c3491dee5431c9e3a5c962dc29774",
            "ad4aab40b006414b91d2dbda5932800a",
            "00dd0cdd9a6f49629b1120053b0e8e52",
            "09da0c24a30d4a3492cfe3f883c00167",
            "b8b92d39ce2e4e829436d41c68be2955",
            "3f09d586bf0145c89030cbd24422cccd",
            "cfa2b3d2c04944e38d98cc7e099402b7",
            "3e13c7eafee54408b834b56254f6a358",
            "994da07db4504f77acb678a412eb2bf0",
            "5a922cb6f90f43eb98d8f45bc2249c4b",
            "1c61a26a772145879c6349fe395c43c7",
            "7d7f457618a34095a8f73f275925fb46",
            "86327618d34b4830814e840967592296",
            "bb29a2d27d1948ac98320919717d4642",
            "a252a09cf99c4e9e8cf6da255cfcdf91",
            "3c8ea56d48c1412fa41e263f52259dd0",
            "14ced00b9d7648139fdbf136ae432b19",
            "651bf15ab1ee4ae2a7c58bac1a5c8e40",
            "338294f65c914245b91c0d27ed66a9a4",
            "3cbe52b352474c6189a14812589327e8",
            "49325278ca454ff7a88d382ef48f36ef",
            "88a01d7b20d9456e8b9fdb033823e82b",
            "67d32bf3dba04bcf9f1c472d59a7c77d",
            "6a6f03b644974ea7b68f1c314830e673",
            "f9b5a7fb88824710961c1726da8b84b3",
            "e6a6cf68888d42acbd179d0803a5cfe7",
            "fea9e9b78f9345ca8bbf739c1f744c7f",
            "a0875eac428e4cf6bf73fcf141032480",
            "32973d068b3f43f385a4d72acaf7ee2b",
            "30739d6334774a39b897d9c267333bd7",
            "397617ff1d1a463f943d1a9817a7c9fe",
            "5ef8606ae8e34c179a924927562f77a1",
            "8b3731a0c1a64628909b01d9dec149c9",
            "57a0c37cf3ca48e0890280ff8d7df1d4",
            "d23caaedc07d4a32bbdc4264aa734267",
            "4bca191c1583485baeb52d1f045efb84",
            "7d60f37ff4c743b08c7a2e91a79a4db0",
            "e29d4d6429094b30b4feaecfe00ba42c",
            "b046f45ce5974efca71551cd9ae7f52c",
            "8a0c674a616249b08dddfa41c12e3bd9",
            "82798c774dce40fa963a543ce1d8c809",
            "d83cf4e5a58b4ffb842facc21727be48",
            "addc47d392b042f79c45002496270736",
            "655682cf68f540df8198810b927e0d4e",
            "2ddce7a41b084f28a230fb52362c75d7",
            "c6d87240554d47449b42b44b5685cd3e",
            "5e561cc7990a46c68dc29fcad142ee74",
            "68df0d43d2d64bd692cee0339201df2e"
          ]
        },
        "id": "KGZQcZGBj5Eo",
        "outputId": "fd51bacf-82fc-4d53-ca3c-79c4a01304f1"
      },
      "execution_count": null,
      "outputs": [
        {
          "output_type": "stream",
          "name": "stdout",
          "text": [
            "Starting fresh classification...\n"
          ]
        },
        {
          "output_type": "stream",
          "name": "stderr",
          "text": [
            "/usr/local/lib/python3.11/dist-packages/huggingface_hub/utils/_auth.py:94: UserWarning: \n",
            "The secret `HF_TOKEN` does not exist in your Colab secrets.\n",
            "To authenticate with the Hugging Face Hub, create a token in your settings tab (https://huggingface.co/settings/tokens), set it as secret in your Google Colab and restart your session.\n",
            "You will be able to reuse this secret in all of your notebooks.\n",
            "Please note that authentication is recommended but still optional to access public models or datasets.\n",
            "  warnings.warn(\n"
          ]
        },
        {
          "output_type": "display_data",
          "data": {
            "text/plain": [
              "tokenizer_config.json: 0.00B [00:00, ?B/s]"
            ],
            "application/vnd.jupyter.widget-view+json": {
              "version_major": 2,
              "version_minor": 0,
              "model_id": "d1f611c2a9124cdba315c0b1d366aa0c"
            }
          },
          "metadata": {}
        },
        {
          "output_type": "display_data",
          "data": {
            "text/plain": [
              "tokenizer.model:   0%|          | 0.00/500k [00:00<?, ?B/s]"
            ],
            "application/vnd.jupyter.widget-view+json": {
              "version_major": 2,
              "version_minor": 0,
              "model_id": "dfd84c959f504139bf13df24f1f878f9"
            }
          },
          "metadata": {}
        },
        {
          "output_type": "display_data",
          "data": {
            "text/plain": [
              "tokenizer.json: 0.00B [00:00, ?B/s]"
            ],
            "application/vnd.jupyter.widget-view+json": {
              "version_major": 2,
              "version_minor": 0,
              "model_id": "60f1a4e1e99646ba808d8686bcdf841d"
            }
          },
          "metadata": {}
        },
        {
          "output_type": "display_data",
          "data": {
            "text/plain": [
              "added_tokens.json:   0%|          | 0.00/306 [00:00<?, ?B/s]"
            ],
            "application/vnd.jupyter.widget-view+json": {
              "version_major": 2,
              "version_minor": 0,
              "model_id": "c0247aba8bbb4d73a2019416d1a50443"
            }
          },
          "metadata": {}
        },
        {
          "output_type": "display_data",
          "data": {
            "text/plain": [
              "special_tokens_map.json:   0%|          | 0.00/599 [00:00<?, ?B/s]"
            ],
            "application/vnd.jupyter.widget-view+json": {
              "version_major": 2,
              "version_minor": 0,
              "model_id": "7483e8dce980480083d482ff6df88c36"
            }
          },
          "metadata": {}
        },
        {
          "output_type": "display_data",
          "data": {
            "text/plain": [
              "config.json: 0.00B [00:00, ?B/s]"
            ],
            "application/vnd.jupyter.widget-view+json": {
              "version_major": 2,
              "version_minor": 0,
              "model_id": "aac567957376498e84c9231ed221c1fd"
            }
          },
          "metadata": {}
        },
        {
          "output_type": "display_data",
          "data": {
            "text/plain": [
              "configuration_phi3.py: 0.00B [00:00, ?B/s]"
            ],
            "application/vnd.jupyter.widget-view+json": {
              "version_major": 2,
              "version_minor": 0,
              "model_id": "c268e87995e84196b2e66c35514a99af"
            }
          },
          "metadata": {}
        },
        {
          "output_type": "stream",
          "name": "stderr",
          "text": [
            "A new version of the following files was downloaded from https://huggingface.co/microsoft/phi-3-mini-128k-instruct:\n",
            "- configuration_phi3.py\n",
            ". Make sure to double-check they do not contain any added malicious code. To avoid downloading new versions of the code file, you can pin a revision.\n"
          ]
        },
        {
          "output_type": "display_data",
          "data": {
            "text/plain": [
              "modeling_phi3.py: 0.00B [00:00, ?B/s]"
            ],
            "application/vnd.jupyter.widget-view+json": {
              "version_major": 2,
              "version_minor": 0,
              "model_id": "6b0e227097314a888bc29bb4eeb2710b"
            }
          },
          "metadata": {}
        },
        {
          "output_type": "stream",
          "name": "stderr",
          "text": [
            "A new version of the following files was downloaded from https://huggingface.co/microsoft/phi-3-mini-128k-instruct:\n",
            "- modeling_phi3.py\n",
            ". Make sure to double-check they do not contain any added malicious code. To avoid downloading new versions of the code file, you can pin a revision.\n",
            "WARNING:transformers_modules.microsoft.phi-3-mini-128k-instruct.072cb7562cb8c4adf682a8e186aaafa49469eb5d.modeling_phi3:`flash-attention` package not found, consider installing for better performance: No module named 'flash_attn'.\n",
            "WARNING:transformers_modules.microsoft.phi-3-mini-128k-instruct.072cb7562cb8c4adf682a8e186aaafa49469eb5d.modeling_phi3:Current `flash-attention` does not support `window_size`. Either upgrade or use `attn_implementation='eager'`.\n"
          ]
        },
        {
          "output_type": "display_data",
          "data": {
            "text/plain": [
              "model.safetensors.index.json: 0.00B [00:00, ?B/s]"
            ],
            "application/vnd.jupyter.widget-view+json": {
              "version_major": 2,
              "version_minor": 0,
              "model_id": "ca0c2b447d1c4eacaf424b49b6b215c4"
            }
          },
          "metadata": {}
        },
        {
          "output_type": "display_data",
          "data": {
            "text/plain": [
              "Fetching 2 files:   0%|          | 0/2 [00:00<?, ?it/s]"
            ],
            "application/vnd.jupyter.widget-view+json": {
              "version_major": 2,
              "version_minor": 0,
              "model_id": "b26197aeb32b4b5ba3511228174981be"
            }
          },
          "metadata": {}
        },
        {
          "output_type": "display_data",
          "data": {
            "text/plain": [
              "model-00001-of-00002.safetensors:   0%|          | 0.00/4.97G [00:00<?, ?B/s]"
            ],
            "application/vnd.jupyter.widget-view+json": {
              "version_major": 2,
              "version_minor": 0,
              "model_id": "b8b92d39ce2e4e829436d41c68be2955"
            }
          },
          "metadata": {}
        },
        {
          "output_type": "display_data",
          "data": {
            "text/plain": [
              "model-00002-of-00002.safetensors:   0%|          | 0.00/2.67G [00:00<?, ?B/s]"
            ],
            "application/vnd.jupyter.widget-view+json": {
              "version_major": 2,
              "version_minor": 0,
              "model_id": "3c8ea56d48c1412fa41e263f52259dd0"
            }
          },
          "metadata": {}
        },
        {
          "output_type": "display_data",
          "data": {
            "text/plain": [
              "Loading checkpoint shards:   0%|          | 0/2 [00:00<?, ?it/s]"
            ],
            "application/vnd.jupyter.widget-view+json": {
              "version_major": 2,
              "version_minor": 0,
              "model_id": "fea9e9b78f9345ca8bbf739c1f744c7f"
            }
          },
          "metadata": {}
        },
        {
          "output_type": "display_data",
          "data": {
            "text/plain": [
              "generation_config.json:   0%|          | 0.00/181 [00:00<?, ?B/s]"
            ],
            "application/vnd.jupyter.widget-view+json": {
              "version_major": 2,
              "version_minor": 0,
              "model_id": "e29d4d6429094b30b4feaecfe00ba42c"
            }
          },
          "metadata": {}
        }
      ]
    },
    {
      "cell_type": "code",
      "source": [
        "sdoh_categories = list(sdoh_keywords_Yu.keys())\n",
        "\n",
        "def classify_sdoh_phi3_batch(comments, batch_size=32):\n",
        "    \"\"\"\n",
        "    Classify multiple comments in batches for better efficiency\n",
        "    \"\"\"\n",
        "    results = []\n",
        "    categories_str = ', '.join(sdoh_categories)\n",
        "\n",
        "    for i in range(0, len(comments), batch_size):\n",
        "        batch_comments = comments[i:i+batch_size]\n",
        "        batch_prompts = []\n",
        "\n",
        "        for comment in batch_comments:\n",
        "            prompt = f\"\"\"### Instruction:\n",
        "Classify the following patient comment into one of these Social Determinants of Health (SDoH) categories:\n",
        "{categories_str}.\n",
        "If the comment does not relate to any social determinants of health, classify it as \"no_sdoh\".\n",
        "### Patient Comment:\n",
        "{comment}\n",
        "### SDoH Category:\"\"\"\n",
        "            batch_prompts.append(prompt)\n",
        "\n",
        "        try:\n",
        "            inputs = tokenizer(\n",
        "                batch_prompts,\n",
        "                return_tensors=\"pt\",\n",
        "                truncation=True,\n",
        "                max_length=512,\n",
        "                padding=True\n",
        "            )\n",
        "            inputs = {k: v.to(model.device) for k, v in inputs.items()}\n",
        "\n",
        "            with torch.no_grad():\n",
        "                outputs = model.generate(\n",
        "                    **inputs,\n",
        "                    max_new_tokens=50,\n",
        "                    do_sample=False,\n",
        "                    pad_token_id=tokenizer.eos_token_id,\n",
        "                    eos_token_id=tokenizer.eos_token_id,\n",
        "                    use_cache=False\n",
        "                )\n",
        "\n",
        "            for j, output in enumerate(outputs):\n",
        "                input_length = inputs['input_ids'][j].shape[0]\n",
        "                new_tokens = output[input_length:]\n",
        "                response = tokenizer.decode(new_tokens, skip_special_tokens=True)\n",
        "\n",
        "                category = response.strip().split('\\n')[0].lower()\n",
        "                category = category.replace(\":\", \"\").replace(\".\", \"\").strip()\n",
        "\n",
        "                if category in sdoh_categories:\n",
        "                    results.append(category)\n",
        "                else:\n",
        "                    results.append(\"no_sdoh\")\n",
        "\n",
        "        except Exception as e:\n",
        "            print(f\"Error processing batch starting at index {i}: {e}\")\n",
        "            results.extend([\"error\"] * len(batch_comments))\n",
        "\n",
        "    return results\n",
        "\n"
      ],
      "metadata": {
        "colab": {
          "base_uri": "https://localhost:8080/"
        },
        "id": "Rs6GplLqhkBp",
        "outputId": "11e145d0-c61a-4af8-cb44-d3e8dbf663b9"
      },
      "execution_count": null,
      "outputs": [
        {
          "metadata": {
            "tags": null
          },
          "name": "stdout",
          "output_type": "stream",
          "text": [
            "Processing chunk 1/23 (rows 0 to 4999)\n"
          ]
        },
        {
          "metadata": {
            "tags": null
          },
          "name": "stderr",
          "output_type": "stream",
          "text": [
            "WARNING:transformers_modules.microsoft.phi-3-mini-128k-instruct.072cb7562cb8c4adf682a8e186aaafa49469eb5d.modeling_phi3:You are not running the flash-attention implementation, expect numerical differences.\n"
          ]
        }
      ]
    },
    {
      "cell_type": "code",
      "source": [
        "batch_size = 16\n",
        "save_every = 5000\n",
        "start_idx = 0\n",
        "\n",
        "chunk_size = save_every\n",
        "num_chunks = (len(df_final) + chunk_size - 1) // chunk_size\n",
        "\n",
        "for chunk_idx in range(num_chunks):\n",
        "    start = chunk_idx * chunk_size\n",
        "    end = min(start + chunk_size, len(df_final))\n",
        "\n",
        "    print(f\"Processing chunk {chunk_idx + 1}/{num_chunks} (rows {start} to {end-1})\")\n",
        "\n",
        "    chunk_comments = df_final.loc[start:end-1, \"Gemma_Cleaned_Comment\"].tolist()\n",
        "\n",
        "    chunk_labels = classify_sdoh_phi3_batch(chunk_comments, batch_size)\n",
        "\n",
        "    for i, label in enumerate(chunk_labels):\n",
        "        final_results.loc[start + i, \"phi3_label\"] = label\n",
        "\n",
        "    final_results.to_csv(output_file, index=False)\n",
        "    print(f\"Autosaved after processing {end} rows\")\n",
        "\n",
        "\n",
        "final_results.to_csv(output_file, index=False)\n",
        "print(f\"Results saved to {output_file}\")\n",
        "\n"
      ],
      "metadata": {
        "id": "dQMuzSgYhpxz"
      },
      "execution_count": null,
      "outputs": []
    },
    {
      "cell_type": "markdown",
      "source": [
        "#Gemma-2B-it Zero shot"
      ],
      "metadata": {
        "id": "_U_xs0UXaqT5"
      }
    },
    {
      "cell_type": "code",
      "source": [
        "output_file = \"LLama_SDoH_Final_gemma.csv\"\n",
        "final_results = df_final.copy()\n",
        "final_results[\"gemma_label\"] = \"\"\n",
        "\n",
        "model_name = \"google/gemma-2b-it\"\n",
        "tokenizer = AutoTokenizer.from_pretrained(model_name)\n",
        "model = AutoModelForCausalLM.from_pretrained(\n",
        "    model_name, device_map=device, torch_dtype=torch.float16\n",
        ")\n"
      ],
      "metadata": {
        "id": "wJHWnCdda5Ju"
      },
      "execution_count": null,
      "outputs": []
    },
    {
      "cell_type": "code",
      "source": [
        "sdoh_categories = list(sdoh_keywords_Yu.keys())\n",
        "\n",
        "def classify_sdoh_gemma_batch(comments, batch_size=32):\n",
        "    results = []\n",
        "    categories_str = ', '.join(sdoh_categories)\n",
        "\n",
        "    for i in range(0, len(comments), batch_size):\n",
        "        batch_comments = comments[i:i+batch_size]\n",
        "        batch_prompts = [\n",
        "            f\"\"\"<start_of_turn>user\n",
        "Classify the following patient comment into one of these Social Determinants of Health (SDoH) categories:\n",
        "{categories_str}.\n",
        "If none match, classify as \"no_sdoh\".\n",
        "\n",
        "Patient Comment:\n",
        "{comment}\n",
        "\n",
        "SDoH Category:<end_of_turn>\n",
        "<start_of_turn>model\"\"\" for comment in batch_comments\n",
        "        ]\n",
        "\n",
        "        try:\n",
        "            inputs = tokenizer(\n",
        "                batch_prompts,\n",
        "                return_tensors=\"pt\",\n",
        "                truncation=True,\n",
        "                max_length=512,\n",
        "                padding=True\n",
        "            ).to(device)\n",
        "\n",
        "            with torch.no_grad():\n",
        "                outputs = model.generate(\n",
        "                    **inputs,\n",
        "                    max_new_tokens=50,\n",
        "                    do_sample=False,\n",
        "                    pad_token_id=tokenizer.eos_token_id,\n",
        "                    use_cache=False\n",
        "                )\n",
        "\n",
        "            for j, output in enumerate(outputs):\n",
        "                input_length = inputs['input_ids'][j].shape[0]\n",
        "                new_tokens = output[input_length:]\n",
        "                response = tokenizer.decode(new_tokens, skip_special_tokens=True)\n",
        "\n",
        "                category = response.strip().split(\"\\n\")[0].lower().replace(\":\", \"\").replace(\".\", \"\").strip()\n",
        "\n",
        "                if category in sdoh_categories:\n",
        "                    results.append(category)\n",
        "                else:\n",
        "                    results.append(\"no_sdoh\")\n",
        "\n",
        "        except Exception as e:\n",
        "            print(f\"Batch error at index {i}: {e}\")\n",
        "            results.extend([\"error\"] * len(batch_comments))\n",
        "\n",
        "    return results\n"
      ],
      "metadata": {
        "id": "AuhCuNxBapog"
      },
      "execution_count": null,
      "outputs": []
    },
    {
      "cell_type": "code",
      "source": [
        "batch_size = 16\n",
        "save_every = 5000\n",
        "chunk_size = save_every\n",
        "num_chunks = (len(df_final) + chunk_size - 1) // chunk_size\n",
        "\n",
        "for chunk_idx in tqdm(range(num_chunks), desc=\"Gemma Chunks\"):\n",
        "    start = chunk_idx * chunk_size\n",
        "    end = min(start + chunk_size, len(df_final))\n",
        "\n",
        "    chunk_comments = df_final.loc[start:end-1, \"Gemma_Cleaned_Comment\"].tolist()\n",
        "    chunk_labels = classify_sdoh_gemma_batch(chunk_comments, batch_size)\n",
        "\n",
        "    final_results.loc[start:end-1, \"gemma_label\"] = chunk_labels\n",
        "\n",
        "    final_results.to_csv(output_file, index=False)\n",
        "    print(f\" Autosaved at row {end}\")\n",
        "\n",
        "\n",
        "final_results.to_csv(output_file, index=False)\n",
        "print(f\" Results saved to {output_file}\")\n"
      ],
      "metadata": {
        "id": "XhOKsN3dbEUi"
      },
      "execution_count": null,
      "outputs": []
    }
  ]
}